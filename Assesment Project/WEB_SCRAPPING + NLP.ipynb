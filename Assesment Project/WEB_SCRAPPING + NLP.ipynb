{
 "cells": [
  {
   "cell_type": "code",
   "execution_count": 1,
   "id": "dad9fbd7",
   "metadata": {},
   "outputs": [],
   "source": [
    "import requests\n",
    "from bs4 import BeautifulSoup"
   ]
  },
  {
   "cell_type": "code",
   "execution_count": 2,
   "id": "307b4f0f",
   "metadata": {},
   "outputs": [],
   "source": [
    "url = \"https://www.lse.ac.uk/study-at-lse/undergraduate/degree-programmes-2024/ba-history#:~:text=BA%20History%20at%20LSE%20is,world%20we%20live%20in%20today\"\n",
    "page = requests.get(url)\n",
    "soup = BeautifulSoup(page.text, \"html\")"
   ]
  },
  {
   "cell_type": "markdown",
   "id": "34c2a4c5",
   "metadata": {},
   "source": [
    "####  Cleaning the text"
   ]
  },
  {
   "cell_type": "code",
   "execution_count": 3,
   "id": "79d76385",
   "metadata": {
    "scrolled": true
   },
   "outputs": [],
   "source": [
    "clean_text = soup.get_text(\" \", strip=True)\n",
    "clean_text = clean_text.replace(\"Browser does not support script\",\"\")"
   ]
  },
  {
   "cell_type": "markdown",
   "id": "a0c026f9",
   "metadata": {},
   "source": [
    "#### Importing required Packages"
   ]
  },
  {
   "cell_type": "code",
   "execution_count": 4,
   "id": "78732f5c",
   "metadata": {},
   "outputs": [],
   "source": [
    "import spacy\n",
    "nlp = spacy.load(\"en_core_web_sm\")    # loading a pre_trained_model\n",
    "doc = nlp(clean_text)"
   ]
  },
  {
   "cell_type": "code",
   "execution_count": 5,
   "id": "32962ab7",
   "metadata": {
    "scrolled": true
   },
   "outputs": [
    {
     "name": "stdout",
     "output_type": "stream",
     "text": [
      "BA History .\n",
      "Skip to content London School of Economics and Political Science Search Menu Study at LSE Toggle navigation Undergraduate Graduate Executive education Study Abroad Summer schools Online certificate courses International students Meet, visit and discover LSE Trending at LSE Virtual undergraduate open day Campus tours Students at LSE Blog Careers service Behavioural Lab: get involved as a research participant or assistant\n",
      "Apply Got an admissions question?\n",
      "Check our Admissions Knowledge Base Study at LSE Undergraduate Graduate Executive Education Online courses Summer School Study abroad Student life Accommodation Research Discover our research LSE Blogs Research for the World online magazine LSE Press Find LSE academics Research centres Understanding Global Politics Understanding the UK Economy Our REF 2021 results News & events Latest news Upcoming events Films & podcasts Media queries About LSE An introduction Our Campaign Our strategy LSE leadership Departments & institutes Divisions Library Members of CIVICA Term dates Contact us Quick links for Current students LSE staff Alumni & friends Business & employers Jobs Paying fees COVID-19 information Close Search Go Study at LSE Undergraduate BA History Programmes BA History Undergraduate Department of International History UCAS code V146 Starting 2024 Home full-time: Closed Overseas full-time: Closed Location: Houghton Street,  London BA History at LSE is a modern international history degree, with courses that span from the fifteenth century to the twenty-first century.\n",
      "You will gain an understanding of the forces that have shaped the past and those that are shaping the world we live in today.\n",
      "This degree is distinctive for its international perspective on the past.\n",
      "It gives as much attention to political, economic, social and cultural developments within states as to the relations between them, in the belief that unless domestic and international history are studied together neither can be properly understood.\n",
      "The Department of International History is world renowned, and prides itself on delivering its ground-breaking research throughout the teaching programme.\n",
      "BA History offers you a range of intellectual challenges: from broad survey courses, that look at particular themes or regions over a long period of time; to specialist courses that will develop your expertise in a topic, to the long essay or dissertation which allows you to pursue independent research in your third year.\n",
      "There is a very wide range of history courses to choose from, and there will be some opportunities to take outside options from other departments at the School.\n",
      "Throughout the degree, you will learn to analyse complex evidence from a variety of sources, to develop analytical powers and to present findings effectively.\n",
      "These skills and a broad knowledge of the development of the world around us are valued by many employers.\n",
      "Students on this programme also have the opportunity to receive a language specialism attached to their degree certificate and transcript - see the programme structure and courses section.\n",
      "Visit the Department of International History Virtual Undergraduate Open Day page to find out more about studying in the department, access virtual resources and watch event recordings from our Virtual Undergraduate Open Day.\n",
      "Programme details Key facts Academic year (2024/25) 30 September 2024 - 20 June 2025 Application deadline 31 January 2024 Duration\n",
      "Three years full-time Applications/places/ratio 2022 509/64/8:1\n",
      "For more information about tuition fees, usual standard offers and entry requirements, see the sections below.\n",
      "Entry requirements Below we list our entry requirements in terms of GCSEs, A-Levels (the entry requirements should be read alongside our A-level subject combinations information) and the International Baccalaureate (IB) Diploma.\n",
      "We accept a wide range of other qualifications from the UK and from overseas .\n",
      "GCSEs A strong set of GCSE grades including the majority at A (or 7) and A* (or 8-9) GCSE (or equivalent) English Language and Mathematics grades should be no lower than B (or 6)\n",
      "We also consider your overall GCSE subject profile A-levels*\n",
      "AAA We also consider your AS grades, if available Contextual admissions A-level grades** AAB IB Diploma 38 points overall.\n",
      "766 at higher level Contextual admissions IB grades** 37 points overall.\n",
      "666 at higher level *Read our A-level subject combinations information below.\n",
      "**Read our UG Admissions Information to learn more about contextual admissions.\n",
      "A-level subject combinations We consider the combination of subjects you have taken, as well as the individual scores.\n",
      "We believe a broad mix of traditional academic subjects to be the best preparation for studying at LSE and expect applicants to have at least two full A-levels or equivalent in these subjects.\n",
      "We are looking for academic students with a genuine interest in and enthusiasm for the social sciences, with a particular emphasis on international history.\n",
      "There is no one 'ideal' subject combination, however common sixth form subject choices include a combination of History, English, Economics, Government and Politics, Sociology, modern languages and Philosophy. \n",
      "A-level History (or equivalent) is not a required subject.\n",
      "Mathematics and Further Mathematics at A-level will be considered, so long as they are combined with an essay writing subject.\n",
      "Find out more about A-level subject combinations .\n",
      "Competition for places at LSE Competition for places at the School is high.\n",
      "This means that even if you are predicted or if you achieve the grades that meet our usual standard offer, this will not guarantee you an offer of admission.\n",
      "Usual standard offers are intended only as a guide, and in some cases applicants will be asked for grades which differ from this.\n",
      "Assessing your application We welcome applications from all suitably qualified prospective students and want to recruit students with the very best academic merit, potential and motivation, irrespective of their background.\n",
      "The programme guidance below should be read alongside our general entrance requirements information.\n",
      "We carefully consider each application on an individual basis, taking into account all the information presented on the UCAS application form, including your: - academic achievement including predicted and achieved grades (See 'Entry requirements' for programme specific information) - subjects and subject combinations (See 'Entry requirements' for programme specific information) - personal statement (See below for programme specific information) - teacher’s reference - educational circumstances You may also have to provide evidence of your English proficiency, although you do not need to provide this at the time of your application to LSE.\n",
      "See our English language requirements page .\n",
      "Personal characteristics, skills and attributes For this programme, we are looking for students who demonstrate the following characteristics, skills and attributes: - genuine interest in history - an ability to read extensively - an ability to evaluate and challenge conventional views - good communication skills - initiative and enthusiasm - attention to detail - intellectual curiosity - motivation and capacity for hard work Personal statement In addition to demonstrating the above personal characteristics, skills and attributes, your statement should be original, interesting and well-written and should outline your enthusiasm and motivation for the programme.\n",
      "Selectors are looking for academic students with a genuine interest in and enthusiasm for the social sciences, with a particular emphasis on international history.\n",
      "There is no one ideal subject combination, however, as with all degree programmes at LSE, at least two traditional academic subjects are preferred.\n",
      "Your personal statement should provide evidence of your genuine interest in history, together with an understanding of what studying these subjects at LSE involves.\n",
      "We are also interested in your views and opinions.\n",
      "You should mention whether there are any aspects of particular interest to you, how it relates to your current academic programme and what additional reading or similar experiences you have had which have led you to apply.\n",
      "You should explain whether there are any aspects of particular interest to you, how this relates to your current academic studies and what additional reading or relevant experiences you have had which have led you to apply.\n",
      "We are interested to hear your own thoughts or ideas on the topics you have encountered through your exploration of the subject at school or through other activities.\n",
      "Some suggestions for preliminary reading can be found below in the preliminary reading section, but there is no set list of activities we look for; instead we look for students who have made the most of the opportunities available to them to deepen their knowledge and understanding of their intended programme of study.\n",
      "You can also mention extra-curricular activities such as sport, the arts or volunteering or any work experience you have undertaken.\n",
      "However, the main focus of an undergraduate degree at LSE is the in-depth academic study of a subject and we expect the majority of your personal statement to be spent discussing your academic interests.\n",
      "Please also see our general guidance about writing personal statements Fees and funding Every undergraduate student is charged a fee for each year of their programme.\n",
      "The fee covers registration and examination fees payable to the School, lectures, classes and individual supervision, lectures given at other colleges under intercollegiate arrangements and, under current arrangements, membership of the Students' Union.\n",
      "It does not cover living costs or travel or fieldwork.\n",
      "Tuition fees Home students: The 2024 tuition fee for new Home students is £9,250 per year.\n",
      "The Home student undergraduate fee may rise in line with inflation in subsequent years.\n",
      "Overseas students: The 2024 tuition fee for international students is £26,184.\n",
      "The overseas tuition fee will remain at the same amount for each subsequent year of your full-time study regardless of the length of your programme.\n",
      "This information applies to new overseas undergraduate entrants starting their studies from 2024 onwards.\n",
      "The Table of Fees shows the latest tuition amounts for all programmes offered by the School.\n",
      "Fee status The amount of tuition fees you will need to pay, and any financial support you are eligible for, will depend on whether you are classified as a home or overseas student, otherwise known as your fee status.\n",
      "LSE assesses your fee status based on guidelines provided by the Department of Education.\n",
      "Further information about fee status classification Scholarships, bursaries and loans The School recognises that the cost of living in London may be higher than in your home town or country.\n",
      "LSE provides generous financial support, in the form of bursaries and scholarships to UK, EU and overseas students.\n",
      "In addition, UK Government support, in the form of loans, is available to UK and some EU students.\n",
      "Some overseas governments also offer funding.\n",
      "Further information on tuition fees, cost of living, loans and scholarships Information for international students LSE is an international community, with over 140 nationalities represented amongst its student body.\n",
      "We celebrate this diversity through everything we do.\n",
      "If you are applying to LSE from outside of the UK then take a look at our Information for International students .\n",
      "1) Take a note of the UK qualifications we require for your programme of interest (found in the ‘Entry requirements’ section of this page).\n",
      "2) Go to the International Students section of our website.\n",
      "3) Select your country.\n",
      "4) Select ‘Undergraduate entry requirements’ and scroll until you arrive at the information about your local/national qualification.\n",
      "Compare the stated UK entry requirements listed on this page with the local/national entry requirement listed on your country specific page.\n",
      "Programme structure and courses The degree involves studying courses to the value of 12 units over three years, plus LSE100.\n",
      "First year In the first year you will take two compulsory courses and two course options, chosen from three history courses, one further IR course, language courses and outside options.\n",
      "In addition, you will ​also take LSE100 .\n",
      "Second year In the second year you will take a range of history courses from approved lists.\n",
      "You will also take an approved outside option.\n",
      "Third year In your third year you will take three history options or two history options plus an approved outside option.\n",
      "You will also research and write a 10,000 word dissertation on a topic of your choice.\n",
      "For the most up-to-date list of courses available on this programme, read the Programme Regulations for BA History .\n",
      "Watch videos about the International History courses\n",
      "Language specialism Students who have taken and passed at least one language course in each year of their degree (i.e., 25 per cent of their overall programme of study) will be offered the opportunity to receive a language specialism attached to their degree certificate and transcript.\n",
      "Students must take all courses in the same language (French, Spanish, German, Mandarin or Russian) in order to qualify for the specialism.\n",
      "The three courses must also be consecutively harder in level, for example: beginner, intermediate and advanced.\n",
      "Students who choose to take language courses are not obligated to receive a specialism, but have the option if they wish.\n",
      "Degree certificates which include a language specialism will state the language in the title, for example: BA in History (with French) .\n",
      "Where regulations permit, you may also be able to take a language, literature or linguistics option as part of your degree.\n",
      "Information can be found on the Language Centre webpages .\n",
      "You must note, however, that while care has been taken to ensure that this information is up-to-date and correct, a change of circumstances since publication may cause the School to change, suspend or withdraw a course or programme of study, or change the fees that apply to it.\n",
      "The School will always notify the affected parties as early as practicably possible and propose any viable and relevant alternative options.\n",
      "Note that the School will neither be liable for information that after publication becomes inaccurate or irrelevant, nor for changing, suspending or withdrawing a course or programme of study due to events outside of its control, which includes but is not limited to a lack of demand for a course or programme of study, industrial action, fire, flood or other environmental or physical damage to premises.\n",
      "You must also note that places are limited on some courses and/or subject to specific entry requirements.\n",
      "The School cannot therefore guarantee you a place.\n",
      "Please note that changes to programmes and courses can sometimes occur after you have accepted your offer of a place.\n",
      "These changes are normally made in light of developments in the discipline or path-breaking research, or on the basis of student feedback.\n",
      "Changes can take the form of altered course content, teaching formats or assessment modes.\n",
      "Any such changes are intended to enhance the student learning experience.\n",
      "You should visit the School’s Calendar , or contact the relevant academic department, for information on the availability and/or content of courses and programmes of study.\n",
      "Certain substantive changes will be listed on the updated undergraduate course and programme information page Teaching and assessment Teaching Format and contact hours: You will have a combination of weekly lectures and small classes, amounting to about eight contact hours per week.\n",
      "Hours vary according to courses and you can view indicative details in the Calendar within the Teaching section of each course guide .\n",
      "Independent study: In addition, you will need to spend approximately 15-20 hours per week in independent study during term time, as well as during vacations.\n",
      "This will involve reading extensively and writing between three to five essays and/or class papers per course.\n",
      "LSE Teaching: LSE is internationally recognised for its teaching and research and you will be taught by both academic staff and PhD students. \n",
      "You can view indicative details for the teacher responsible for each course in the relevant course guide .\n",
      "Academic Support Academic mentor: You will have an academic mentor who will offer support if any problems should arise.\n",
      "Other academic support: There are many opportunities to extend your learning outside the classroom and complement your academic studies at LSE.\n",
      "LSE LIFE is the School’s centre for academic, personal and professional development.\n",
      "Some of the services on offer include: guidance and hands-on practice of the key skills you will need to do well at LSE: effective reading, academic writing and critical thinking;\n",
      "workshops related to how to adapt to new or difficult situations, including development of skills for leadership, study/work/life balance and preparing for the world of work; and advice and practice on working in study groups and on cross-cultural communication and teamwork.\n",
      "Disability and Wellbeing Service: LSE is committed to enabling all students to achieve their full potential and the School’s Disability and Wellbeing Service provides a free, confidential service to all LSE students and is a first point of contact for all disabled students.\n",
      "Your timetable The standard teaching day runs from 09:00-18:00; Monday to Friday.\n",
      "Teaching for undergraduate students will not usually be scheduled after 12:00 on Wednesdays to allow for sports, volunteering and other extra-curricular events.\n",
      "The lecture and seminar timetable is published in mid-August and the full academic timetable (lectures/seminars and undergraduate classes) is published by mid-September and is accessible via the LSE Timetables webpages .\n",
      "Undergraduate student personal timetables are published in LSE for You (LFY).\n",
      "For personal timetables to appear, students must be registered at LSE, have successfully signed up for courses in LFY and ensured that their course selection does not contain unauthorised clashes. \n",
      "Every effort is made to minimise changes after publication, once personal timetables have been published any changes are notified via email.\n",
      "Assessment Formative unassessed coursework: All taught courses are required to include formative coursework which is unassessed.\n",
      "It is designed to help prepare you for summative assessment which counts towards the course mark and to the degree award.\n",
      "LSE uses a range of formative assessment, such as essays, problem sets, case studies, reports, quizzes, mock exams and many others.\n",
      "Feedback on coursework is an essential part of the teaching and learning experience at the School.\n",
      "Class teachers must mark formative coursework and return it with feedback to you normally within two weeks of submission (when the work is submitted on time).\n",
      "Summative assessment ( assessment that counts towards your final course mark and degree award).\n",
      "Some courses will be assessed by written assessment and many contain elements of continuous summative assessment.\n",
      "Please note that assessment on individual courses can change year to year.\n",
      "You will also receive feedback on any summative coursework you are required to submit as part of the assessment for individual courses (except on the final version of submitted dissertations).\n",
      "You will normally receive this feedback before the examination period.\n",
      "An indication of the current formative coursework and summative assessment for each course can be found in the relevant course guide .\n",
      "Find out more about LSE’s teaching and assessment methods Faculty Programme Director Dr Tim Hochstrasser Associate Professor Department of International History Class profile Personal characteristics and skills that will be useful to students in their study of History at LSE include the abilities to read extensively; evaluate and challenge conventional views; communicate effectively; show initiative and enthusiasm and demonstrate attention to detail.\n",
      "In addition you should possess intellectual curiosity and have the motivation and capacity for hard work.\n",
      "Student support and resources We’re here to help and support you throughout your time at LSE, whether you need help with your academic studies, support with your welfare and wellbeing or simply to develop on a personal and professional level.\n",
      "Whatever your query, big or small there are a range of people you can speak to and who will be happy to help.\n",
      "Academic mentors – an academic member of staff who you will meet with at least once a term and who can help with any academic, administrative or personal questions you have.\n",
      "(See Teaching and assessment).\n",
      "Academic support librarians – they will be able to help you navigate the library and maximise its resources during your studies.\n",
      "Accommodation service - they can offer advice on living in halls and offer guidance on private accommodation related queries.\n",
      "Class teachers and seminar leaders – they will be able to assist with queries relating to a specific course you are taking.\n",
      "Disability and Wellbeing Service – the staff are experts in long term health conditions, sensory impairments, mental health and specific learning difficulties.\n",
      "They offer confidential and free services such as student counselling, a peer support scheme, arranging exam adjustments and run groups and workshops.\n",
      "IT help – support available 24 hours a day to assist with all of your technology queries.\n",
      "LSE Faith Centre – home to LSE's diverse religious activities and transformational interfaith leadership programmes, as well as a space for worship, prayer and quiet reflection.\n",
      "It includes Islamic prayer rooms and a main space for worship.\n",
      "It is also a space for wellbeing classes on campus and is open to all students and staff from all faiths and none.\n",
      "Language Centre – the centre specialises in offering language courses targeted to the needs of students and practitioners in the social sciences.\n",
      "We offer pre-course English for Academic Purposes programmes; English language support during your studies; modern language courses in 9 languages; proofreading, translation and document authentication and language learning community activities.\n",
      "LSE Careers ­ - with the help of LSE Careers, you can make the most of the opportunities that London has to offer.\n",
      "Whatever your future career plans, LSE Careers will work with you, connecting you to opportunities and experiences from internships and volunteering to networking events and employer and alumni insights.\n",
      "LSE Library - Founded in 1896, the British Library of Political and Economic Science is the major international library of the social sciences.\n",
      "It stays open late, has lots of excellent resources and it’s a great place to study.\n",
      "As an LSE student, you’ll have access to a number of other academic libraries in Greater London and nationwide.\n",
      "LSE LIFE – this is where you should go to develop skills you’ll use as a student and beyond.\n",
      "The centre runs talks and workshops on skills you’ll find useful in the classroom, offer one-to-one sessions with study advisers who can help you with reading, making notes, writing, research and exam revision, and provide drop-in sessions for academic and personal support.\n",
      "(See ‘Teaching and assessment).\n",
      "LSE Students’ Union (LSESU) – they offer academic, personal and financial advice and funding.\n",
      "Sardinia House Dental Practice - offers discounted private dental services to LSE students.\n",
      "St Philips Medical Centre - based in Pethwick-Lawrence House the centre provides NHS Primary Care services to registered patients.\n",
      "Student Services Centre – our staff here can answer general queries and can point you in the direction of other LSE services.\n",
      "Student advisers – we have a Deputy Head of Student Services (Advice and Policy) and an Adviser to Women Students who can help with academic and pastoral matters.\n",
      "Student life As a student at LSE you’ll be based at our central London campus.\n",
      "Find out what our campus and London have to offer you on academic, social and career perspective.\n",
      "Student societies and activities Your time at LSE is not just about studying, there are plenty of ways to get involved in extracurricular activities .\n",
      "From joining one of over 200 societies, or starting your own society, to volunteering for a local charity, or attending a public lecture by a world-leading figure, there is a lot to choose from.\n",
      "The campus LSE is based on one campus in the centre of London.\n",
      "Despite the busy feel of the surrounding area, many of the streets around campus are pedestrianised, meaning the campus feels like a real community.\n",
      "Life in London London is an exciting, vibrant and colourful city.\n",
      "It's also an academic city, with more than 400,000 university students.\n",
      "Whatever your interests or appetite you will find something to suit your palate and pocket in this truly international capital.\n",
      "Make the most of career opportunities and social activities, theatre, museums, music and more.\n",
      "Want to find out more?\n",
      "Read why we think London is a fantastic student city , find out about key sights, places and experiences for new Londoners .\n",
      "Don't fear, London doesn't have to be super expensive: hear about London on a budget .\n",
      "Student stories Sachin Mehta BA History My programme has a great variety of courses, both in general history and in the history of specific areas.\n",
      "You can also take an outside option, which allows you to learn about an area that you were interested in but had never thought to study. \n",
      "LSE is a great place to learn – a combination of interesting courses, enthusiastic teachers (among the best in the world!)\n",
      "and a wide range of teaching resources and materials.\n",
      "My Department has a great support network, and the teachers are always willing to help and give advice.\n",
      "Jamie Pelling BA History WATCH VIDEO>\n",
      "Why study with us?\n",
      "International History at LSE History is a wide ranging and challenging subject to study.\n",
      "It seeks to understand the past and to make sense of the present, adding an important dimension to the understanding of many aspects of human society.\n",
      "The International History Department is world renowned in its field, offering a unique perspective on the history of relations between states, peoples and cultures.\n",
      "The Department prides itself on giving students the benefit of ground-breaking research throughout its teaching programme.\n",
      "Our degrees will give you a broad international perspective on the past.\n",
      "We give attention both to domestic and international issues and many of the courses we offer deal with major events in the history of international relations.\n",
      "Since the behaviour of countries in the international arena cannot be understood without a knowledge of their distinct social, political, economic and cultural characteristics, we provide courses covering major aspects of the history of ideas and mentalities.\n",
      "The LSE was founded in 1895 originally as an institute of higher education for graduate students.\n",
      "The Department of International History reflects this tradition and takes its responsibility for undergraduate teaching and supervision very seriously.\n",
      "We admit nearly as many undergraduate students as masters students.\n",
      "We have one of the most cosmopolitan undergraduate communities in London and one of the most vibrant and dynamic.\n",
      "You will have use of our library , famous for being the best university library in London.\n",
      "In addition, we have an IT network and training facilities that are acknowledged to be leading the field.\n",
      "LSE History rankings The Department of International History has consistently performed well in the QS World University Rankings .\n",
      "In the QS World University History Subject Table for 2021, History at LSE ranked 5th overall in the world for the second year running, ahead of Columbia, Stanford, Berkeley and Princeton.\n",
      "In the UK and in  Europe, History at LSE continues to rank third, behind Oxford and Cambridge, but ahead of King's College London, UCL and Edinburgh.\n",
      "Research in the Department\n",
      "The department is divided into five research clusters covering a wide range of subjects taught in the Department.\n",
      "We have our own blog, LSE International History Blog , where students and non-LSE historians contribute historically-informed perspectives on contemporary affairs.\n",
      "We also have our own podcast, Our Histories , with each episode devoted to the research conducted by one of our faculty members.\n",
      "LSE and departmental events Undergraduate students in the Department of International History are invited to attend guest lectures throughout the year.\n",
      "Students can take advantage of the great LSE tradition of inviting famous (and infamous) figures from the world of politics, business, media and international affairs.\n",
      "Please see the Department's Public Lectures and Events for a good range of history events hosted by us during the academic year as well as the LSE Public Lectures and Events .\n",
      "This helps make the LSE a particularly fertile and exciting place to be studying international history.\n",
      "We also organise several social events for our students during term time and a weekend away at Cumberland Lodge , Great Windsor Park once a year.\n",
      "This is designed to enable undergraduates to get to know each other better and to develop their ideas about a particular topic.\n",
      "LSE Student Union and London There is an almost bewildering range of societies and clubs engaging with international politics, single issues, the 'third world', social justice problems or just dedicated to sport, music, dance and a whole range of pursuits which we lecturers haven't got a clue about.\n",
      "We highly recommend our students join the LSE Student Union History Society .\n",
      "We have a gym and squash courts on site and one of the largest student shops on campus.\n",
      "There is also a large student bookshop owned by Waterstone's selling new and used books.\n",
      "We are very fortunate at the LSE in being so centrally located in the capital.\n",
      "We are in walking distance of the British Library, Covent Garden, the Royal Courts of Justice, the British Museum, the National Gallery, the West End theatres as well as Trafalgar Square, the Barbican, Buckingham Palace, River Thames and the London Eye.\n",
      "Much of our graduate accommodation is located in prime real-estate sites in central London.\n",
      "Our graduate students can take advantage of all the intellectual resources that this capital is home to, including the National Archives south of the river at Kew and the world's largest newspaper archive in North London.\n",
      "Not surprisingly our students are able to produce dissertations of the highest quality benefiting from such easy access to a range of primary sources and people willing to help.\n",
      "Preliminary reading If you wish to gain further insight into the subject we suggest that you look at one or more of the following books: M Abbott History Skills (Routledge, 1996)\n",
      "Best et al An International History of the Twentieth Century and Beyond (Routledge, 2014)\n",
      "D Cannadine What is History Now?\n",
      "(Palgrave, 2002)\n",
      "R Evans In Defence of History (Granta, 1997)\n",
      "D Reynolds One World Divisible (Norton, 2000)\n",
      "D Stevenson 1914-1918: The history of the First World War (Allen Lane, 2004)\n",
      "O\n",
      "A Westad The Global Cold War:\n",
      "Third World interventions and the making of our times (Cambridge University Press, 2007)\n",
      "Careers Quick Careers Facts for the Department of International History Through studying history you will learn how to analyse complex evidence from a variety of sources, to develop your analytical powers and to present your findings effectively.\n",
      "These skills and a broad knowledge of the development of the world around us are valued by many employers.\n",
      "Past students have followed a range of careers in politics, journalism, media and publishing, advertising, marketing, and public relations, public administration, the foreign service, industry, the charity and development sector, finance, consulting and the legal profession, as well as in research, teaching, libraries and archives.\n",
      "LSE history students continue to have one of the best rate of employability and earnings after graduation in the UK.\n",
      "The Complete University Guide 2020 places History at LSE 6th overall for job prospects.\n",
      "Guardian's University 2021 League Tables placed History at LSE in 2nd place for percentage of graduates who find graduate-level jobs, or are in further study at professional or HE level, within fifteen months of graduation.\n",
      "The 2019 report on Graduate Outcomes Subject by Provider from the Department for Education places History at LSE top of the table with earnings superior to any other university in the UK with 2010-11 LSE graduates' median salary at £43,200 5 years after graduating.\n",
      "A report on relative labour market returns , also from the Department for Education, which calculated the difference in earnings by subject and university choice throughout Britain five years after graduation, ranked History at LSE number 1 in June 2018.\n",
      "The report illustrates the average impact the different universities and subjects would have on the future income of an individual.\n",
      "History at LSE averaged a lifetime earnings boost of £14,000 for men and £15,000 for women when compared with studying history at any other university in the UK, including Oxford, St Andrews, Cambridge, KCL and UCL.\n",
      "Median salary of our UG students 15 months after graduating: £27,000 Top 5 sectors our students work in: Government, Public Sector and Policy Financial and Professional Services Education, Teaching and Research Advertising, Marketing, PR, Media, Entertainment, Publishing and Journalism FMCG, Manufacturing and Retail\n",
      "The data was collected as part of the Graduate Outcomes survey, which is administered by the Higher Education Statistics Agency (HESA).\n",
      "Graduates from 2019-20 were the third group to be asked to respond to Graduate Outcomes.\n",
      "Median salaries are calculated for respondents who are paid in UK pounds sterling and who were working in full-time employment.\n",
      "Further information on graduate destinations for this programme Support for your career The department is committed to supporting students' options after graduation in the world of work or futher studies by organising a careers programme tailored specifically to International History students with the help of LSE Careers .\n",
      "Also, many leading organisations give careers presentations at the School during the year, and LSE Careers has a wide range of resources available to assist students in their job search. Find out more about the support available to students through LSE Careers .\n",
      "Find out more about LSE Discover more about being an LSE student - meet us in a city near you, visit our campus or experience LSE from home.\n",
      "Experience LSE from home Webinars, videos, student blogs and student video diaries will help you gain an insight into what it's like to study at LSE for those that aren't able to make it to our campus.\n",
      "Experience LSE from home .\n",
      "Visit LSE Come on a guided campus tour, attend an undergraduate open day, drop into our office or go on a self-guided tour.\n",
      "Find out about opportunities to visit LSE .\n",
      "LSE visits you Student Marketing, Recruitment and Study Abroad travels throughout the UK and around the world to meet with prospective students.\n",
      "We visit schools, attend education fairs and also hold Destination LSE events: pre-departure events for offer holders.\n",
      "Find details on LSE's upcoming visits .\n",
      "Contact us Programme and admissions enquiries With questions related to your application or the admissions process, please check our admissions frequently asked questions page.\n",
      "If you have any queries which are not answered on the website, please contact the department's Undergraduate Admissions Advisor : Dr Qingfei Yin Assistant Professor in International History Email Discover Uni data Every undergraduate programme of more than one year duration will have Discover Uni data.\n",
      "The data allows you to compare information about individual programmes at different higher education institutions.\n",
      "Please note that programmes offered by different institutions with similar names can vary quite significantly.\n",
      "We recommend researching the programmes you are interested in and taking into account the programme structure, teaching and assessment methods, and support services available.\n",
      "How to apply Undergraduate Virtual Open Day Register your interest Ask LSE Department homepage Share Email a link to this page Share on Facebook Share on LinkedIn Related Programmes BSc History and Politics Code(s)\n",
      "LV21 BSc International Relations and History Code(s)\n",
      "VL12 .\n",
      "Request a prospectus Name First name Last name Address Address Line 1 Address Line 2 City County Postcode Country Email Submit Register your interest Name First name Last name Email Submit Speak to Admissions Content to be supplied London School of Economics and Political Science Houghton Street London WC2A 2AE UK LSE is a private company limited by guarantee, registration number 70527.\n",
      "+44 (0)20 7405 7686 Campus map Contact us Report a page Cookies Accessibility Statement Terms of use Privacy policy Modern Slavery Statement FaceBook Flickr Instagram LinkedIn SoundCloud Twitter\n",
      "You Tube © LSE 2024 .\n",
      ". . . . .\n"
     ]
    }
   ],
   "source": [
    "for sentence in doc.sents:\n",
    "    print(sentence)"
   ]
  },
  {
   "cell_type": "markdown",
   "id": "eff9f7b5",
   "metadata": {},
   "source": [
    "#### From these sentences we can lookup for degree_type"
   ]
  },
  {
   "cell_type": "code",
   "execution_count": 6,
   "id": "f38c27b8",
   "metadata": {},
   "outputs": [
    {
     "data": {
      "text/plain": [
       "'undergraduate'"
      ]
     },
     "execution_count": 6,
     "metadata": {},
     "output_type": "execute_result"
    }
   ],
   "source": [
    "for sentence in doc.sents:\n",
    "    if \"undergraduate\" in sentence.text.lower():\n",
    "        degree_type = \"undergraduate\"\n",
    "    elif \"postgraduate\" in sentence.text.lower():\n",
    "        degree_type = \"postgraduate\"\n",
    "        \n",
    "degree_type"
   ]
  },
  {
   "cell_type": "markdown",
   "id": "2c31cdb9",
   "metadata": {},
   "source": [
    "#### Now we can lookup for application_deadline"
   ]
  },
  {
   "cell_type": "code",
   "execution_count": 7,
   "id": "b54f907d",
   "metadata": {},
   "outputs": [
    {
     "data": {
      "text/plain": [
       "'31 January 2024'"
      ]
     },
     "execution_count": 7,
     "metadata": {},
     "output_type": "execute_result"
    }
   ],
   "source": [
    "for sentence in doc.sents:\n",
    "    if \"application deadline\" in sentence.text.lower():\n",
    "        dates = []\n",
    "        for ent in sentence.ents:\n",
    "            if ent.label_ == \"DATE\":\n",
    "                dates.append(ent)\n",
    "                application_deadline = str(dates[-1])\n",
    "\n",
    "application_deadline"
   ]
  },
  {
   "cell_type": "markdown",
   "id": "d732fc84",
   "metadata": {},
   "source": [
    "#### Next we need to lookup for duration_of_the_degree"
   ]
  },
  {
   "cell_type": "code",
   "execution_count": 10,
   "id": "3ce8b78b",
   "metadata": {},
   "outputs": [
    {
     "data": {
      "text/plain": [
       "'Three years full-time'"
      ]
     },
     "execution_count": 10,
     "metadata": {},
     "output_type": "execute_result"
    }
   ],
   "source": [
    "from nltk.tokenize import word_tokenize\n",
    "\n",
    "for sentence in doc.sents:\n",
    "    if \"years\" in sentence.text.lower():\n",
    "        tokens = word_tokenize(sentence.text)\n",
    "        duration = tokens[:3]\n",
    "        duration = ' '.join(duration)\n",
    "        break\n",
    "        \n",
    "duration"
   ]
  },
  {
   "cell_type": "markdown",
   "id": "8543aff3",
   "metadata": {},
   "source": [
    "#### Now we need to find the fees for the overseas students"
   ]
  },
  {
   "cell_type": "code",
   "execution_count": 11,
   "id": "f87cb4f3",
   "metadata": {},
   "outputs": [
    {
     "data": {
      "text/plain": [
       "'£26,184'"
      ]
     },
     "execution_count": 11,
     "metadata": {},
     "output_type": "execute_result"
    }
   ],
   "source": [
    "from nltk.tokenize import word_tokenize\n",
    "\n",
    "for sentence in doc.sents:\n",
    "    if \"overseas students:\" in sentence.text.lower():\n",
    "            tokens = word_tokenize(sentence.text)\n",
    "            fees = tokens[-2]\n",
    "        \n",
    "fees     "
   ]
  },
  {
   "cell_type": "markdown",
   "id": "b47ea24b",
   "metadata": {},
   "source": [
    "#### Now we can lookup for the admission_eligibility/entri requirements"
   ]
  },
  {
   "cell_type": "code",
   "execution_count": 12,
   "id": "1b510c9c",
   "metadata": {},
   "outputs": [
    {
     "data": {
      "text/plain": [
       "' Entry requirements Below we list our entry requirements in terms of GCSEs, A-Levels (the entry requirements should be read alongside our A-level subject combinations information) and the International Baccalaureate (IB) Diploma.GCSEs A strong set of GCSE grades including the majority at A (or 7) and A* (or 8-9) GCSE (or equivalent) English Language and Mathematics grades should be no lower than B (or 6)We also consider your overall GCSE subject profile A-levels*'"
      ]
     },
     "execution_count": 12,
     "metadata": {},
     "output_type": "execute_result"
    }
   ],
   "source": [
    "entri_requirements = \" \"\n",
    "for sentence in doc.sents:\n",
    "    if \"gcse\" in sentence.text.lower():\n",
    "            entri_requirements +=sentence.text\n",
    "            \n",
    "entri_requirements"
   ]
  },
  {
   "cell_type": "markdown",
   "id": "89eaa7f1",
   "metadata": {},
   "source": [
    "#### And finally we need to extract the degree_description"
   ]
  },
  {
   "cell_type": "code",
   "execution_count": 13,
   "id": "19958909",
   "metadata": {},
   "outputs": [],
   "source": [
    "program_structure = \" \"\n",
    "for sentence in doc.sents:\n",
    "        if \"lse100\" in sentence.text.lower():\n",
    "                program_structure += sentence.text\n",
    "        if \"first year\" in sentence.text.lower():\n",
    "                program_structure += sentence.text\n",
    "        if \"second year\" in sentence.text.lower():\n",
    "                program_structure += sentence.text\n",
    "        if \"third year\" in sentence.text.lower():\n",
    "                program_structure += sentence.text"
   ]
  },
  {
   "cell_type": "code",
   "execution_count": 14,
   "id": "d9bc9571",
   "metadata": {},
   "outputs": [],
   "source": [
    "degree_description = program_structure.replace(\"In addition, you will\\xa0\\u200balso\\xa0take LSE100\",\"\")"
   ]
  },
  {
   "cell_type": "code",
   "execution_count": 15,
   "id": "072406fc",
   "metadata": {},
   "outputs": [
    {
     "data": {
      "text/plain": [
       "' BA History offers you a range of intellectual challenges: from broad survey courses, that look at particular themes or regions over a long period of time; to specialist courses that will develop your expertise in a topic, to the long essay or dissertation which allows you to pursue independent research in your third year.Programme structure and courses The degree involves studying courses to the value of 12 units over three years, plus LSE100.First year In the first year you will take two compulsory courses and two course options, chosen from three history courses, one further IR course, language courses and outside options. .Second year In the second year you will take a range of history courses from approved lists.Third year In your third year you will take three history options or two history options plus an approved outside option.In the QS World University History Subject Table for 2021, History at LSE ranked 5th overall in the world for the second year running, ahead of Columbia, Stanford, Berkeley and Princeton.'"
      ]
     },
     "execution_count": 15,
     "metadata": {},
     "output_type": "execute_result"
    }
   ],
   "source": [
    "degree_description"
   ]
  },
  {
   "cell_type": "markdown",
   "id": "8ce500f9",
   "metadata": {},
   "source": [
    "#### Now we can store all the extracted data into a dictionary "
   ]
  },
  {
   "cell_type": "code",
   "execution_count": 16,
   "id": "6d5fe87d",
   "metadata": {},
   "outputs": [],
   "source": [
    "data = {\n",
    "    \"Degree Program\" :[\"Degree type\", \"Application deadline\",\"Duration of the degree\",\"Admission eligibility/entry requirements\",\n",
    "                       \"Overseas student fees\",\"Brief degree description\"],\n",
    "    \"Details\" : [degree_type, application_deadline, duration, entri_requirements, fees, degree_description]\n",
    "}"
   ]
  },
  {
   "cell_type": "markdown",
   "id": "3d963c3d",
   "metadata": {},
   "source": [
    "#### Now we can make a dataframe "
   ]
  },
  {
   "cell_type": "code",
   "execution_count": 20,
   "id": "76d81b7c",
   "metadata": {
    "scrolled": false
   },
   "outputs": [
    {
     "data": {
      "text/html": [
       "<div>\n",
       "<style scoped>\n",
       "    .dataframe tbody tr th:only-of-type {\n",
       "        vertical-align: middle;\n",
       "    }\n",
       "\n",
       "    .dataframe tbody tr th {\n",
       "        vertical-align: top;\n",
       "    }\n",
       "\n",
       "    .dataframe thead th {\n",
       "        text-align: right;\n",
       "    }\n",
       "</style>\n",
       "<table border=\"1\" class=\"dataframe\">\n",
       "  <thead>\n",
       "    <tr style=\"text-align: right;\">\n",
       "      <th></th>\n",
       "      <th>Degree Program</th>\n",
       "      <th>Details</th>\n",
       "    </tr>\n",
       "  </thead>\n",
       "  <tbody>\n",
       "    <tr>\n",
       "      <th>0</th>\n",
       "      <td>Degree type</td>\n",
       "      <td>undergraduate</td>\n",
       "    </tr>\n",
       "    <tr>\n",
       "      <th>1</th>\n",
       "      <td>Application deadline</td>\n",
       "      <td>31 January 2024</td>\n",
       "    </tr>\n",
       "    <tr>\n",
       "      <th>2</th>\n",
       "      <td>Duration of the degree</td>\n",
       "      <td>Three years full-time</td>\n",
       "    </tr>\n",
       "    <tr>\n",
       "      <th>3</th>\n",
       "      <td>Admission eligibility/entry requirements</td>\n",
       "      <td>Entry requirements Below we list our entry requirements in terms of GCSEs, A-Levels (the entry requirements should be read alongside our A-level subject combinations information) and the International Baccalaureate (IB) Diploma.GCSEs A strong set of GCSE grades including the majority at A (or 7) and A* (or 8-9) GCSE (or equivalent) English Language and Mathematics grades should be no lower than B (or 6)We also consider your overall GCSE subject profile A-levels*</td>\n",
       "    </tr>\n",
       "    <tr>\n",
       "      <th>4</th>\n",
       "      <td>Overseas student fees</td>\n",
       "      <td>£26,184</td>\n",
       "    </tr>\n",
       "    <tr>\n",
       "      <th>5</th>\n",
       "      <td>Brief degree description</td>\n",
       "      <td>BA History offers you a range of intellectual challenges: from broad survey courses, that look at particular themes or regions over a long period of time; to specialist courses that will develop your expertise in a topic, to the long essay or dissertation which allows you to pursue independent research in your third year.Programme structure and courses The degree involves studying courses to the value of 12 units over three years, plus LSE100.First year In the first year you will take two compulsory courses and two course options, chosen from three history courses, one further IR course, language courses and outside options. .Second year In the second year you will take a range of history courses from approved lists.Third year In your third year you will take three history options or two history options plus an approved outside option.In the QS World University History Subject Table for 2021, History at LSE ranked 5th overall in the world for the second year running, ahead of Columbia, Stanford, Berkeley and Princeton.</td>\n",
       "    </tr>\n",
       "  </tbody>\n",
       "</table>\n",
       "</div>"
      ],
      "text/plain": [
       "                             Degree Program  \\\n",
       "0                               Degree type   \n",
       "1                      Application deadline   \n",
       "2                    Duration of the degree   \n",
       "3  Admission eligibility/entry requirements   \n",
       "4                     Overseas student fees   \n",
       "5                  Brief degree description   \n",
       "\n",
       "                                                                                                                                                                                                                                                                                                                                                                                                                                                                                                                                                                                                                                                                                                                                                                                                                                                                                                                                                                                                                                                                       Details  \n",
       "0                                                                                                                                                                                                                                                                                                                                                                                                                                                                                                                                                                                                                                                                                                                                                                                                                                                                                                                                                                                                                                                                undergraduate  \n",
       "1                                                                                                                                                                                                                                                                                                                                                                                                                                                                                                                                                                                                                                                                                                                                                                                                                                                                                                                                                                                                                                                              31 January 2024  \n",
       "2                                                                                                                                                                                                                                                                                                                                                                                                                                                                                                                                                                                                                                                                                                                                                                                                                                                                                                                                                                                                                                                        Three years full-time  \n",
       "3                                                                                                                                                                                                                                                                                                                                                                                                                                                                                                                                                                                           Entry requirements Below we list our entry requirements in terms of GCSEs, A-Levels (the entry requirements should be read alongside our A-level subject combinations information) and the International Baccalaureate (IB) Diploma.GCSEs A strong set of GCSE grades including the majority at A (or 7) and A* (or 8-9) GCSE (or equivalent) English Language and Mathematics grades should be no lower than B (or 6)We also consider your overall GCSE subject profile A-levels*  \n",
       "4                                                                                                                                                                                                                                                                                                                                                                                                                                                                                                                                                                                                                                                                                                                                                                                                                                                                                                                                                                                                                                                                      £26,184  \n",
       "5   BA History offers you a range of intellectual challenges: from broad survey courses, that look at particular themes or regions over a long period of time; to specialist courses that will develop your expertise in a topic, to the long essay or dissertation which allows you to pursue independent research in your third year.Programme structure and courses The degree involves studying courses to the value of 12 units over three years, plus LSE100.First year In the first year you will take two compulsory courses and two course options, chosen from three history courses, one further IR course, language courses and outside options. .Second year In the second year you will take a range of history courses from approved lists.Third year In your third year you will take three history options or two history options plus an approved outside option.In the QS World University History Subject Table for 2021, History at LSE ranked 5th overall in the world for the second year running, ahead of Columbia, Stanford, Berkeley and Princeton.  "
      ]
     },
     "execution_count": 20,
     "metadata": {},
     "output_type": "execute_result"
    }
   ],
   "source": [
    "import pandas as pd\n",
    "\n",
    "pd.set_option(\"display.max_colwidth\", None)\n",
    "df = pd.DataFrame(data)\n",
    "df"
   ]
  },
  {
   "cell_type": "markdown",
   "id": "58a2a715",
   "metadata": {},
   "source": [
    "#### Now we can save this as a csv file"
   ]
  },
  {
   "cell_type": "code",
   "execution_count": 24,
   "id": "f70f3b17",
   "metadata": {},
   "outputs": [],
   "source": [
    "df.to_excel(\"BA History program Details.xlsx\", index = False)"
   ]
  },
  {
   "cell_type": "code",
   "execution_count": null,
   "id": "d67bf85f",
   "metadata": {},
   "outputs": [],
   "source": []
  }
 ],
 "metadata": {
  "kernelspec": {
   "display_name": "Python 3 (ipykernel)",
   "language": "python",
   "name": "python3"
  },
  "language_info": {
   "codemirror_mode": {
    "name": "ipython",
    "version": 3
   },
   "file_extension": ".py",
   "mimetype": "text/x-python",
   "name": "python",
   "nbconvert_exporter": "python",
   "pygments_lexer": "ipython3",
   "version": "3.11.5"
  }
 },
 "nbformat": 4,
 "nbformat_minor": 5
}
